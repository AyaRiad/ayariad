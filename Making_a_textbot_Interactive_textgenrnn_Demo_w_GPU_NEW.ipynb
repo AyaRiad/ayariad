{
  "nbformat": 4,
  "nbformat_minor": 0,
  "metadata": {
    "colab": {
      "name": "Making a textbot -  Interactive textgenrnn Demo w/ GPU NEW",
      "provenance": [],
      "collapsed_sections": [],
      "toc_visible": true,
      "include_colab_link": true
    },
    "kernelspec": {
      "name": "python3",
      "display_name": "Python 3"
    },
    "accelerator": "GPU"
  },
  "cells": [
    {
      "cell_type": "markdown",
      "metadata": {
        "id": "view-in-github",
        "colab_type": "text"
      },
      "source": [
        "<a href=\"https://colab.research.google.com/github/AyaRiad/ayariad/blob/master/Making_a_textbot_Interactive_textgenrnn_Demo_w_GPU_NEW.ipynb\" target=\"_parent\"><img src=\"https://colab.research.google.com/assets/colab-badge.svg\" alt=\"Open In Colab\"/></a>"
      ]
    },
    {
      "cell_type": "markdown",
      "metadata": {
        "id": "KEUsNW9Kt-1T",
        "colab_type": "text"
      },
      "source": [
        "# SECTION 1 \n",
        "# Scraping text from YouTube videos \n"
      ]
    },
    {
      "cell_type": "markdown",
      "metadata": {
        "id": "MpoqYuNiuImx",
        "colab_type": "text"
      },
      "source": [
        "###Install and import API \n",
        "The first cell would normally be in your terminal but the ! here allows it to run in the notebook \n",
        "The second cell imports it into your code"
      ]
    },
    {
      "cell_type": "code",
      "metadata": {
        "id": "Nr2Yr7qYuKqs",
        "colab_type": "code",
        "colab": {
          "base_uri": "https://localhost:8080/",
          "height": 190
        },
        "outputId": "a9cc4ded-534f-4e83-97db-1568554ca1d0"
      },
      "source": [
        "!pip install youtube_transcript_api"
      ],
      "execution_count": null,
      "outputs": [
        {
          "output_type": "stream",
          "text": [
            "Collecting youtube_transcript_api\n",
            "  Downloading https://files.pythonhosted.org/packages/21/81/c4ae5534b113f4938b482f360babbbe6fda550441a4af8e1007dba518586/youtube_transcript_api-0.3.1-py3-none-any.whl\n",
            "Requirement already satisfied: requests in /usr/local/lib/python3.6/dist-packages (from youtube_transcript_api) (2.23.0)\n",
            "Requirement already satisfied: chardet<4,>=3.0.2 in /usr/local/lib/python3.6/dist-packages (from requests->youtube_transcript_api) (3.0.4)\n",
            "Requirement already satisfied: idna<3,>=2.5 in /usr/local/lib/python3.6/dist-packages (from requests->youtube_transcript_api) (2.9)\n",
            "Requirement already satisfied: certifi>=2017.4.17 in /usr/local/lib/python3.6/dist-packages (from requests->youtube_transcript_api) (2020.4.5.1)\n",
            "Requirement already satisfied: urllib3!=1.25.0,!=1.25.1,<1.26,>=1.21.1 in /usr/local/lib/python3.6/dist-packages (from requests->youtube_transcript_api) (1.24.3)\n",
            "Installing collected packages: youtube-transcript-api\n",
            "Successfully installed youtube-transcript-api-0.3.1\n"
          ],
          "name": "stdout"
        }
      ]
    },
    {
      "cell_type": "code",
      "metadata": {
        "id": "yoPxp2jNuLTo",
        "colab_type": "code",
        "colab": {}
      },
      "source": [
        "from youtube_transcript_api import YouTubeTranscriptApi"
      ],
      "execution_count": null,
      "outputs": []
    },
    {
      "cell_type": "markdown",
      "metadata": {
        "id": "mBTwM7rCuZdg",
        "colab_type": "text"
      },
      "source": [
        "Copy and paste the ID's of the videos you want to collect transcripts \n",
        "\n",
        "Run the code to save the transcripts to a string called text "
      ]
    },
    {
      "cell_type": "code",
      "metadata": {
        "id": "G7UGKPhbuM_y",
        "colab_type": "code",
        "colab": {}
      },
      "source": [
        "vid_ids = ['j1rPNNWtbyo', 'PNrlcUMp7rU', 'cGlafnS4uUQ', 'ep5auHgF4-s' , 'C6nutcKVRcU' ,  'RuqXAHU2Ztc', 'xWC6DM465ZQ', '4GYPDB_xVpA', 'acFX7HQKusk', 'lFoq3AbKhs0']\n",
        "# make sure your video ID's are all in quotations marks and separated by commas\n",
        "\n",
        "# make an empty string, then iterate through the list of video ID's and each line of text in each trancsript \n",
        "\n",
        "text = ''\n",
        "for i in range (len(vid_ids)): \n",
        "  output = YouTubeTranscriptApi.get_transcript(vid_ids[i])\n",
        "  for j in range(len(output)): \n",
        "    text = text + (output[j]['text']+ '\\n') "
      ],
      "execution_count": null,
      "outputs": []
    },
    {
      "cell_type": "markdown",
      "metadata": {
        "id": "ZJb35oXWuh0Z",
        "colab_type": "text"
      },
      "source": [
        "We can run print to inspect what we've collected \n",
        "\n"
      ]
    },
    {
      "cell_type": "code",
      "metadata": {
        "id": "APlRGSX7uTIe",
        "colab_type": "code",
        "colab": {
          "base_uri": "https://localhost:8080/",
          "height": 54
        },
        "outputId": "4496bd2c-5b9a-480d-e645-7673a0388159"
      },
      "source": [
        "print(text)"
      ],
      "execution_count": null,
      "outputs": [
        {
          "output_type": "stream",
          "text": [
            "lovely right okay we're here in front and it's it's a little bit later than we thought because we got to bureau tunnel twenty past three train it's been her parents stop there depending the power to the control center had turned off so that everybody was racked up and waiting and also when you get to front it's another hour behind so we lost an hour anyway so we're we're about two hours where we thought we had two hours per home where we thought we'd be so we've [Music] got flames in fairness which caused some smoke cooling down there yeah so we reassured the tickets repeatedly the bike was not on fire and and he gave a kind of garlic shrug off certain relaxed about it will stay yeah so so well stuff so the drama didn't end there really and as we got going I decided so well I needed to fix this cable and make sure it wasn't us burst into flames as we were leaving and just as I was kind of mucking around with it the cap on the end the tongues that connects to the spark plug just came off the wire right yeah it just came off in my hand good luckily we had a rather lovely Indian chap who was riding an Indian a beautiful 1913 Indian and he gave us some advice and and we got it plugged back in of course we weren't really sure so I keep looking down and check it on via of my HD cable which is a good I mean it's a good inch and a half from the exhaust at the moment I think I'd have wired it back so yeah that was the first the first kind of mechanical so far really but these bikes are not blessed with the great reliability record already now we've got a right turn coming up I must set our set our ways and everything to kill officers really great lay is working right ok we'll fix that as well yep okay so yeah the only other drama was my goggles decided to really close yeah somewhere on the m25 Road 20 I'm actually no idea lovely built well goggles from both the legends yeah happen for you must have heard the brawl of about 50 miles did you actually try them at any point did you wear them Oh we'll get support this belt to be like a bike shop for a motocross shop somewhere yeah goggles are really useful when it gets hurt when it gets really breezy and stuff no tail barking they were like half-price or something there's actually oh so yeah this is the challenge of being the throat right oh yeah I'm gonna say cheerio for the time being but by YouTube by my Instagram bye bye everybody on the means there and we'll give you an update later on good morning Institute good morning guys it's been raining when we got up but now we're in we're going down the main drag in Lille and the sun is shining and as you can see I've got my you and Union flag on the go and to be quite honest I think they're gonna last about five minutes before I get annoyed with them but I thought that you know we would show the show the solidarity with our European brothers and sisters by flying these flags it's a really nice day we are going right yeah thank you for that reminder cuz I can't really vlog and navigate at the same time okay oh that's where we had dinner last night at web browser I thought it said the three the three brassieres to start off with sounds like my sort of place to eat oh thank you thank you if anybody watching he does advance motorcycling with me this has this bike is not equipped with self counseling in the cases and that's the reason for my colossal oversight or you gonna cancel yeah even a council button there just left and right nice alright we go straight up straight down okay oh did you get through those lights lovely so one of the great advantages of of riding on the right is that this this mirror here is absolutely no good at all which was useless riding in the UK this one however is nice and tight I can see clarinet I'm super good I am liking Lille in the sunshine so how did you sleep it was a tiny tiny room we were but we didn't care because we got in late and we just oh we're gonna go left left here for Roubaix and to taxi off I cannot figure this are we in the right place okay I'm just terrified there's gonna be something large coming towards us here and we haven't got it there we go okay know that there's lights facing us that must mean that we're okay that we're in the right direction brilliant so yes on the way out of Lille and we will both catch up with you later on today I'm gonna do I'm gonna do several little little vlog II pieces and see if I can up my my video editing game tonight so for the time being from Lille toodaloo so more updates ooh the Sun is out we are traveling through Belgium and we actually in Belgium Frell Djem prodrome yes it's a beautiful sunny day however it is something we have counted so far is we were bloody freezing yesterday I was absolutely freezing myself which was a complete game changer to be honest yeah oh god yeah there we are we're climbing into this we're wearing quite technical gear anyway really hope we've got these we've got this lovely look Knox base layers these no base Lacey's Knox Armour well we got the Knox base layers right and the Knox are over the top and then we're both wearing these kevlar hoodies and they're great you know if you wanna if you if you want something that's great for warm weather and you're still protective we've got the right gear on but the wind goes straight through it yes I mean it's been ridiculous it would just be shivering at a Hello so so we stopped by the side of the road to put our horse proof layer over the top you can see I'm wearing she quit well we're both playing in seconds late stuff Claire's got this waterproof layer on these attractive covers and it was it was a bridge max awareness because he's fair leg she was even wearing spiked she was hard oh you feel inadequate yeah definitely so sitrep on the flags whilst we're here so as you can see I've got we've got the flag still fly but what's happened is my EU flag is slipping down the flagpole and it's like some terrible metaphor for our relationship with Europe so I don't know that they're gonna last very long to be honest yeah he'll probably chances are that that's what I'm going to do with these ones I don't think that's the the flagpoles attorney made out of words they're not going to last that long ah d it's windy I keep the point at the brakes oh yeah yeah yeah it's just twisting to the side every time we go pass on these farmhouses oh Jesus oh yeah here we go what we did we did about 70 or 80 kilometers an hour but that oh I tried to read leader Oh God oh that's ridiculous okay oh my god that is is there it's got a roundel on the side no no it's a jet plane it's a jet plane it's an old jet though all right don't crash into the roundabout while looking at that and the plane oh sure slits out here oh sure that's windy and it doesn't help these God covers mean that I talk okay right I gotta say cheerio to the intertubes just the time because I want to pull my concentrating powers on staying upright hanging on to the bike so bye-bye in tubes well we'll catch up with you later that's a good look for you yeah and typically as soon as we get all our waterproof gear on ridiculous oh well we'll be warm in there so it's been a bit wet mm-hmm it's been really quite wet since we've been in the fight only do Park having a very very large thing of chips but I think we've missed the worst of the rain we're still wearing our sexy waterproofs oh yes it's the breezy pose that's gonna be a thing isn't it it's going to be a thing and we're going to all on so today has been a rather wet windy day the winds have been slightly scary at times and our little bikes but after a long ride through dipping into Belgium and France Weaver stopped for the night in Ireland both stocked rather cold and a bit wet Charlotte jumped in the shower and used all the hot water sorry and and I wrap myself up in a blanket and we've we've had some food now and we feel a lot better a lot warmer and and yeah tomorrow we're gonna make for further into Europe I'm not totally sure Luxembourg get across Luxembourg we don't cross Luxembourg yeah and then and then kind of make for Germany yes sir we're hoping that the weather's not gonna be quite as rubbishes s because it got awfully cold I can do the cold wet that can work together adjust pretty horrendous yeah the wind today was pretty brutal and it slowed us down a bit because at times we had to really drop the speed to stay on the bikes but yeah hopefully next day will be it tomorrow will be a sunnier day a sunnier day okay well cheerio see you tomorrow guys bye so I thought I'd do is just give me a quick introduction about what the hell we're doing what is actually why are we doing it where are we going and how long it's going to take us a little bit yes okay yeah so yeah we we came up with the idea well first we started finding monkey bites a couple of months ago I bought a monkey pie because I thought it'd be fun to learn to wheelie on cuz it's really really got to like it and ya then despite being slightly terrifying when you first write them with the tendency to wheeling they are quite a lot of fun and after having a bit of a muck around so we ended up with exactly the same motorbikes and their SkyTeam DAX motorbikes they were clone of the Honda Dax and the seventies and they were designed to have like seventy CC engines yeah and the Chinese just lacked a generic one to five engine in them that's why they have a tendency and of course we're quite talk you know I'm 510 or 511 so we have to sit on the pillion seat which makes them quite wheelie prone pokey engine gets to see my back knee but but they're brilliant really fun and we got to thinking how far could you go on a on a monkey biting we just thought yeah you know you can buy to britain ride through a bit of europe how far could you get on a motorcycle tour in a few weeks with a cheap bike and the fact is the bikes was about 600 pounds each yeah yeah so they're the simplest bikes you have ever seen I don't know an awful lot about motorcycle maintenance but what I have learned is been on this bike because there's not much to them you can strip them down read pretty quickly you can fix pretty much most things on them you're not gonna have to no computer in there there's no giant BMW touring bike they're super hasn't and that in some ways has worked to our advantage yeah I I couldn't been been following the mantra of people at Austin Vince you don't spend all this money on an expensive touring bike and rock up somewhere small and look like a Power Ranger with all your gear on and riding this ridiculous spaceship of a motorcycle and you're gonna spend a lot on the bike and you're not gonna have a lot to spend on the Terr so why not spend as little as possible on a bike that kind of works and turn off when people think you look a bit ridiculous but people want to talk with you yes we've already had that there's been quite a lot of merchants and French just come up to us and say are you riding those and it's sometimes there's a look of kind of disbelief and it's like were you going even on the even on the Eurotunnel oh you know where you going when I stumble in there like they all have the same look they go it's down bull we haven't mentioned that spot that's actually where we go we got some ribs so yeah that was about we thought we ride all the way through Europe what's all the way through Europe Asia we've been atrocious so I'm used to riding a big adventure bike I rode a triumph 1200 explorer which is lovely it's got a big screen seated grip somewhere on the textiles and we're wearing you know we're wearing sort of summer touring kit for really hot climates because we're going somewhere hot yeah and we'd kind of we hadn't banked on it being quite so cold and wet and I've been where it's been yeah you've been very well it's been bloody chilly and windy yeah the winds was that was the other thing that of course being the people who like to plan things as we do we thought we've got luggage and it was totally untested on the bike when we when we put it on so we suddenly found out that these great pants that the SWAC they're amazing they're waterproof they're scuff proof as I've found out and they're brilliant but they do put quite a bit more weight on the back of the bike it's the way and the side area as well so there's a lot for the winter catch so so yesterday in particular and the winds we've got the tail end of a storm and some of the crosswinds were terrifying yeah so it had better progress because we have stronger speed and the weather was atrocious today it was a bit wet today but it was better than okay and there was some beautiful scenery yeah and we're hoping there's gonna be more of that so we're our overall aim is week one we want to get to Trieste Trieste which is kind of just at the topic of the Adriatic Sea and bits of Italy at the end of week two we would pretty much like to be kind of at the end of the Adriatic Albania mate yeah yeah and then week three is gonna be the gorgeous Lea hotbed through through Greece groups down Suzuki and we're thinking of crossing into Turkey it can deplete but we're not sure yet but either way by the end of week three we're hoping to be in Istanbul and and then we're gonna have a few days in Istanbul depending on power mover black edge list and we've got to get from Istanbul if we make it in the bikes themselves we're gonna load them onto a shipping pallet and get someone to put them in the back of a lorry and drive them home just yes what standard standard international lorry drivers stuff on them and the great thing about the taxis is that they're tiny yes you can fit two of them we've checked as well you can fit two of them all on a standard jury pallet they're so small so they'll go on the back of the van that's probably found at a friendly Turkish freight company we're willing to do it for us and then we can even pack something probably the racks and the loggia trophy for names and stuff that we don't want to take back on the plane with us so yeah so that's basically what we're doing the web address if you want to go read we're making videos every day and we've got we've got these Senate NC Pro helmet cam systems which are brilliant because they're going to let us make videos every day and you can actually you can see what we're seeing through the video camera and you can see the conversation that we're having yeah and so even better than top game in that big ol because you don't have to you don't have to keep cutting back to people and so you can see what I'm see what we're seeing here our conversation and then we're making little videos at the end of the day I'm also doing some words on the blog which is www.sfactor.com and and so you can you can see that and we're just there's social media everywhere there you can you can follow us on Instagram Claire is left Iran and I am hardtail chop and yeah for follow us see what we're doing and see if we make it how much of these bikes actually get to Istanbul if any of them whether we're getting back all right thanks very much for watching cheers bye-bye good morning everybody today is a wet day in Belgium and is brought to you by Holtz easy start would you believe this thing this is this like magic stuff if bike is playing out you give it a score to this and and off it goes how you doing Claire yeah it's proper raining this morning the bikes are soaked already we're wet already but but I am hopeful because it is not actually windy like it was yesterday so we're hoping right well let it warm up and see if we can get underway oh so I didn't share any video of our first 50 or 60 kilometers because it was a bit really it was it was cold and it was wet and we were just getting we were getting some miles done but it wasn't wasn't very pleasant and we stopped for a cup of mid-morning cup of coffee and we're gonna get some petrol in a bit and we definitely didn't go to this place no no no we didn't go there I'm not going to give them my custom even if their coffee is quite drinkable just getting going again and we'll see you up the road oh you all right right yeah we're in Theon Ville where they appear to be running a marathon so the traffic's all a little bit non-stop but it's going well you can see actually this is a dry road surface we have got a dry road surface which is quite lovely alright great light thank you very much listen miss mr. police municipalities not riding a triumph this is nice interesting looking police bike we're passing over a river whose name I have no idea but it's a very nice River I'm hopeful that the rains gonna hold off a little bit now I can see some slit look that thing up there that bright thing in the sky that ball of flame sure Oh No yeah no no we can go straight up we go straight up lovely yeah I'm hopeful that the Sun is going to make an appearance in our lives because it's been sadly absent for the last 24 hours and we got a little bit wet and cold we've got a computer saying 175 miles to Strasbourg which is our destination this evening if we make it that far second exit at this big roundabout I'm quite looking forward to getting to Strasbourg because it's a it's a very civilized nice place and if the weather's okay hopefully we can step out this evening and sample a beer in Strasbourg we still don't know where mistake but we'll book somewhere when we get a little bit closer to it that seems to be the way things are going at the moment we get get close to where we're going and then and then look on the internet and find a suitable place to stay because I mean you wouldn't want a book book yourself into doing 250 kilometres and then go on oh I just can't go that far and end up missing your booking so you got to get within striking distance before you book it we are first exit at this roundabout but not that one this first X then this first exit see if we just had a fairly pleasant - Pleasant little stop cup of coffee warm up and to get some fuel I've been quite nerdy with the fuel I've been photographing how much fuel we've been using and what our our our clocks are odometers on the bikes saved because I want to know exactly how much fuel we use on this because part of the whole point of doing the journey on these ridiculous little motorcycles is to see how cheaply you can do it you know 600 pound bikes so we got a quizzical look from that guy yeah so 600 pound bikes and very little expense and a lot of things and I want to see how little fuel we use to get where we're going so I'm paying quite close attention to the fuel it's if we're normally putting about three and a half liters in every time we stop there there five and a half liter tanks so that's giving us quite a good margin you know we're do sort of a hundred hundred twenty miles or something hundred miles hundred twenty miles and stop and fill them up and there's plenty of plenty of petrol stations around here but I think maybe that might be a little bit more strained when we get to Albania yes so how you feeling this morning class dinner of Champions with something the positive fried fritter a really nice yeah pretty good it's no Indira's windy the wind has dropped right down it has been a bit wet but it's seems to be clearing up a bit right we will speak to you later bye bye oh look at this it's gorgeous this blue sky and there's wind turbines everywhere an empty road yeah yeah this is so much nicer that the difference that a few degrees in a little bit blue sky convey to your mood yeah I love winter roads they are so civilized I believe in the overtake was nice now wind turbines just say yeah we know about renewable energy winter that I've just seen an important sign Oh Fishbourne Oh mouth grumble oh oh well maybe you should report back in there in in Boosh porn and and then yeah well we could do it a little bit on trust time it's some tensile one are you peckish okay well let's stop for the Moose Boosh porn then I'm gonna turn my camera off the city so we've got out of these twisties because I don't want to take my hands off the bloody handlebars all right there okay that's better oh there we go parking spot I'll have a pee please Bob you just got to do your top up yeah will it keep running whilst you take your hands after oh it's laboring a bit I think we still need to adjust your tick over speed a bit don't we only when it's warm it's fine this is like keepy-uppy oh you lost the game oh okay that's it just fold it fold it a bit more yeah that's very fetching McDonald's keyring you've got on there I notice listen to the powerful engine roaring into life the sheer power of it right okay you're gonna keep leading off you go nice ah so it's a hundred and two kilometers to Strasburg it's light and I'm not wearing sunglasses yeah yeah so oh yeah look at that that's quite lovely this guy there so yeah when we stopped we had a look that we've got this brain today app on our on our phones and it's got this sort of a HD rain radar thing and you can see where the rain is coming along and the rain is approximately 20 minutes behind us and it's enthusiasm it's a really big rain cloud out there so we're trying to outrun the rain and so far touchwood we actually are because they're looking more mirror and there's a dirty great big rain cloud you look ahead here and it's it's looking kind of ok so as long as we keep our average speed up we might even stand half a chance of staying dry well we made it to scratch though it was quite a nice ride actually we never got any any more rain and checked into her nice sort of apartment hotel place gossamer dinner sorted ourselves out and had a wonder and Strasbourg which is arts and League gorgeous just as I'd hoped it was a beautiful place and a de Ville civilized buskers everything you could possibly ask for in an evening destination after some hard riding [Music] I hope you're enjoying our videos we'll keep making them if you keep watching them and see you tomorrow where we're hopefully off to Lucerne take care bye for now [Music] [Applause] [Music] hey Roy I think we're in Germany I think we are little kimono stolen yeah oh that didn't take so long definitely oh yes weirdest rasa now yeah none of your ruse no no no no this pullets I yeah stopping for these lights yep and a comet's back whole you know you know when it's so easy to segue from one country to another yeah look at that so yeah we crossed over the Over the Rhine and in Germany like within moments getting no it's just getting more beautiful we finally made it out Strasburg it's like the gravitational pull of Strasbourg on our silly little bike yeah yeah you get you get to like the Strasburg brick road and you can see the back of your own head well we did it well Strasbourg touch there's nothing wood here but touch my shopping basket they're gonna get a run okay for water we've had to modify our plans of way yes we have we will be stuck in Strasbourg a little longer than we would have liked I know it wasn't a big city so instead of heading for Lucerne today we are heading for the name of skates other ways as they're going they say it's about 160 kilometers from Strasbourg and we've already knocked off a fair bit of that but we're actually all quite a big road for lintels axes yes a bigger bigger bigger bigger bigger bigger bigger road make a big a bigger road bigger bigger bigger very good so tell us tell us see you bye Claire well [Music] shortly after Charlotte way back to the hotel so we ended up stress by [Music] roughly on schedule some atreus we've got those slack left now we're going to have add a slack bit below always - yes but we're gonna have to we're going to have to wrap up ramp it up a little bit and it looks like tomorrow we're gonna have to make those extra few miles up and then fake from the Alps yes which I'm I'm kind of I'm looking forward to but I've also if it should be told of also burn scandal yeah because it slightly speak cold it's likely to put some stress on our bikes see that the territory is starting to look a little bit hilly yes cross for somebody actually started off via a hashtag on Instagram pray for Dax's which obviously well so I'm really rather touched by the progenitor about their hashtag I know I'm not going to be doing any any praying anytime soon I can get the idea of positive ways it just just generalize for the hippie movement yeah so yeah we'll see yes beautiful so we're we're about soy at c3 kilometers and shaft opens Schaffhausen Schaffhausen when we're going through the night sorry I'm good muffled I've got the buff over my mouth it's a bit chilly it's a bit chilly because we're sort of chasing the Sun really and we should have enough lights again there but we just pulled off the main road and then Google sent us around this so look at it it's beautiful it's good I would go cycle touring on a road I guess Grayson German roads also German right German drivers so much loving the German drivers their overtakes have been nothing like the French who who in fairness to them have been utter bastard Santa bastards for the Germans they just won't you salute me earlier on of our German driving schools so in Germany it's very strict in order to learn to drive you can't basically dried with our plates and get your dad to teach you on the roads until you've passed quite a lot of thorough testing including and it's quite rigorous which basically means and also the Germans they all drive really fast but they're very safe yeah yeah the skill level has been has been through the roof really and they will not and the other thing we've noticed is that since against Germany the quality of the car went up yes yes high quality car also high quality Tom oh yeah look at this it's just this lovely flowing road enjoy enjoy this yeah the little monkeys were not loving the really steep slopes but they've been running lovely I mean again toe touch baskets yeah well you're reported later yes well we're in Schaffhausen we made it we made it was such a brilliant ride you get the feeling that sometimes you've had it really rough Toder the last 24 hours have been a little bit stressful with the bikes and we just had such a nice ride the sun's setting and everywhere is gorgeous and now we're exactly where we plan to be I am well charge there we go Oh German trains are like a German train okay we're gonna go down here into the right so we've got a room tonight at hostels Zach or hotels it looked a bit huskily to me quite we go we're going right which is gonna wait for the wait for the lights are you feeling very good yeah yeah definitely I can do with doing a little bit of a break now but that stuff's of really great oh here we go oh thank you keep doing that alright this way I think the right round to the right the console action going on there 1.1 kilometres away from our destination we've got lots of Swiss number plates up here as well look hang on no we're in Switzerland oh we are in Switzerland oh is this little Germany I thought we were in Germany aliens that's Wes is there or is it French there's a German sign up there if you don't remember the Swiss it's very complicated an Italian and Italian the probably bits of Austrian and goodness note here we go right shar-peis I think you're right I think you're right oh I spit a lot my fuel fuel Isis out now on so we made all of that in there in one tank of course I never changed myself back to reserve which is so stupid oh if you're gonna get those lights you stopping yeah I'll pull over here see I think we should have turned up autographs it's telling us to turn up but basically this turning I'm not sure it's even a road that's not even a road I know I think it's been recently pedestrianised maybe or maybe you can go up there have a look as you go past the next oh no I just got the wrong way the wrong way right okay dude stay we are yeah I'll follow you now that was not good I know it's taken us like to eight minutes two kilometres we've got to go around or something we could always dribble back on the pavement it's weird because it looked like it sort of looked like a road but you know you wanna go back on the pavement or should we could should we take the rig around I think I might turn the video camera off just so you know nobody can seize it for evidence good morning class good morning Sean how are you I'm rather yeah we are we're rip we're in sort of Feli foolish backwater Italy now como about sort of 30 kilometers a go and it's just a lovely lovely day it's warm we haven't got a shrink wrap I would have proved some nope we just have to get over it pitbull really this morning exactly we're kind of taking it easy we knocked out 300k yesterday yeah ambitious day today and we we took a little while of sporting two to fettle the bikes yep check the oil oil cooler is ease and I'm surprised because the stress bikes changed a banjo or that'sit to try and get it get it all tied the old level is still okay we I'm jerry-rigged quite a spectacular effort to keep the oil off my spark above I've basically bastardized one of Charlotte's Scott Sox used socks incidentally well they had a hole in it so I kind of offered it out for the cause so yeah one of my hack to pieces one of Charlotte's butt is not a mission critical failure I've lost a critical component to my seat which means that is loose but it's weighed out by the luggage and of course by B so I don't think it's actually going anywhere replace yet another bulb in the rear light get it through the bulbs really but yeah the real light is just the brackets come apart that's it's smashing up the bulbs I've packed it with some cloth in there in the hope that it lets see you later a little bit I'm not using the lights you know having the lights are optional oh yeah well exactly I've got I've got power back to my phone which is really nice I can see where I'm going cuz we like to have a dual redundant polling system or navigation because yes in truth neither of us are that good at it and if we can actually agree that we are taking that writer based on two independent viewpoints on the navigation then there's a far lower likelihood of us getting horribly lost yes well I say horribly lost because you just if you've got data to your phone and you've got power and stuff it there's no reason to get a steady boy it's no you so far we haven't really got so far touch touch basket just kids yeah I say you purist motorcycle tourists would probably say you know you're doing it wrong that's all part of the fun of it of getting lost my feeling is there are so many things that can go catastrophic be wrong with our run without her based on these these silly little bikes that actually getting lost is something that I'd like to rule out of the equation entirely yeah yeah I mean it's just not worth the stress so we know we're going we're gonna lose data when we get to our baby er because it's not in the EU my phone won't work and your spine I don't know we'll see so we do have paper maps for the more rural parts that's right but see so catch up with you later on see you later oh well it's 20 to 4:00 in the afternoon and we done most of our miles for the day yeah so we thought we would take a little detour on our way to Verona and come and see Lake Garda we love our lakes yeah that's obviously where the the stylish Italians come to holiday and some smelly brutes on Chinese my boy I resemble that remark there we go just about see it through there see a boat actually it looks bigger than Como but I suppose we were just right in the bottom end of Como so it's all relative right yeah so we're just gonna Biffle along this road really with a little bag of the on the edge of the lake the will will get little views of it as we go see if we can draft all yeah yeah we actually got a peloton behind us it'd be like my journeys yeah yeah actually these are ideal Danny bikes aren't they oh there we go they're always very well turned out Italian cyclist clean white socks put up for a drink what's in your mind yeah maybe what open up for a drink and kind of baby book so much good morning YouTube I'm here to show you something in Verona that disturbs me greatly this is the strange universal plug that is in our hotel room bathroom and it's just it what do you think of it Claire it's terrifying it really is isn't it I can't I mean obviously it's a it's a it's a bathroom plug so it doesn't have an owner it's got all the holes yeah and it just it just looks terrifying it really really does it's it's nothing like our precious our 1363 1363 specification for a 3-pin intrinsically safe plug it's just I mean it looks a little bit more competent than the Swiss ones which scared the hell out of me but it's still really really worried puzzle mmm yeah sort of the Tetris of plugs anyway day 8 and we are and we are going to we are going to Trieste we're going to Trieste this is like our first stage first stage target we're gonna hit the Adriatic today go go well which means tomorrow we can day off yeah yeah I'm so excited so we're gonna go do a little bit of fettling first we're gonna go and infect allow our motorbike because guys oil cooler basically isn't worked or very well so we are gonna have that away and plastic bag and take it home because it just didn't do the job mine still kind of hanging on but it's weeping slightly so but anyway it's it's a really really nice day here so far so far it is this is this is our glamorous glamorous hotel in Verona you can see there's the view of Verona down there that's the view oh yeah you can see the boats oh yeah yeah this is the first time for ages that we've actually had bike parking in the hotel they are there are our little bikes and yes it will leap out there in a second and start to do some some pedaling so this morning it's been pissing oil for the past few days and Charlotte Sox didn't help at all so it's it's gonna come off luckily we bought the original gaskets with us before we before I fitted this so hopefully I won't overheat when we hit the Adriatic the main thing is I'm not pissing fuel into the spark that's the oil into the spot it smokes alarmingly when that happening smoke especially at low speeds and I'm sewing it up with oil all over my Beach Oh your lovely new TV switcher now oh look at that that's great what is that EMI it's very charmer humor it's basically the same bike it's a little hey straight up here okay our first ever monkey bike yeah I love that looks more comfortable actually yeah yeah are we give give it a help how best up my yeah my shocks are by now I think you do better just to have a hotel a great big tires well good morning Instagram YouTube Facebook and all the social media channels greetings from Verona greetings from Verona we've just done some fettling and we are on our way at last and that was a superb hotel experience wasn't in class great point is right and they round this one-way system okay I'm in front I'm in charge yeah there's a lovely hotel experience they they they the lens borough their room very comprehensive tool set which I am gonna give that one five backsons out of five review yeah so here we all were just on the outskirts of Verona and we're gonna we're gonna be making for Trieste our kind of Trieste is like our stage one destination it's our rest day it's like so we're gonna get our way there today their skies are starting to get bit over crowd yeah overcrowded there is round will cost the arias and we have a big day today 270 kilometres but we're going to crack it out and because tomorrow we get to lay in and have breakfast oh yeah yeah breakfast that's not I'm the spices no breakfast things instead of soaring this to the soaring and yes the lunchtime bread from the previous day yes right here we go [Music] [Music] so we're desperate for a book we were just sort of in the fiddling brain really wanting to have a pedal so this is what they call character building how's your character feeling Claire yeah fine maestro but well for [Music] it's tar that's typical so we've just stopped at this market otter most accessory shop because we saw it and we thought we'll stop here and because my shoes were so absolutely soaked through I mean that my feet were sore sopping wet so I've stopped these fabulous new version in black so yeah we're gonna go off into the rain again although it looks like it's starting to clear which would be good right let's put all of our gear back on and get get on the road oh it's the subs actually trying to come out I've already 20 but it's away from the shop are you like fantastic it's the water coming off them yeah have you looked at all I don't want it to rain anymore I really don't want it to rain for the same time cooking these foods that I fall oh sorry I just paid the 200 euro great tax to keep it dry regret a bit so no matter what the weather but it's kind of like that the moment you make a distress purchase of an umbrella oh oh oh that was a one that was poor so we've got we've got this grading system there we go there's a one accent that is five possible taxes that was a one we've had a few really nice ones SolidFire ducks No yeah I think it's only enjoyment got a stereotype this property fairly well well served in town but we yeah we've been pretty okay got left now to get to that's ok we'll manage that I've no any real hard liberties see sunset so yeah we don't we don't like the idea of riding in the dark for a number of reasons the main reason be that the lights on these motorcycles are friendly all these jackets with us just in case what you'd really have to we get stuck gonna get stuck or whatever but sir see that was about to that was a full five Jackson's well done well done was it has an Alfa Romeo so yeah we've got the whole piece in case we do crafter too serious so oh right I'm gonna turn on the little vlog I obviously be paying the boo tax is totally totally paid off because it's it's cleared up nicely I don't care I love these foods in the UK company petrol station attendants would make your coffee because you look a bit a bit soggy you want a coffee oh yeah yeah you don't get that a while Pete cafe no in fairness it was it was a little petrol station attached to sort of them one look like an independent bike shop garage sometime think the guy had on the racing top or the no and gee Cassie stuff in there and randomly a black bird for sale that said for export only is that all export strict black bird and then someone crossed out here for a night but every time I see a bite line up for sale I start entertaining sort of very treacherous anti funky fantasies about just just dropping a bunch of euros on it and then burning our way to Istanbul on a big motorcycle but not going to do that because this is funky hey did you say the same that's the bloody Adriatic just high feels horrible but look out there that I can see ships and stuff just go just behind those oh my goodness it's a little bit difficult to tell whether ie where the sea ends of the road begins but we're there yes lovely is there oh we already got about 18 kilometres to get so the Airbnb for by flipping good they're sick and then be hard ones Oh everything is like I think you know my glove covers leaking here I don't think my lovely beauties the expert Sally cake yeah Oh [Music] the force is with you young Skywalker but you are not a Jedi yet [Music] [Music] [Music] little bit of a check just to see if we can send anything home good morning class how are you I'm dry I'm dry that's the main thing and wearing that we're in the what looks like the main square interests and it's absolutely lovely look at this it's still good still slightly yeah slightly wet there have been a very running festival here today that's that does not look like my sort of thing says the woman who rode through the most terrific rain storm I've ever seen that was almost totally fun this is really really nice liking this a lot right so this is tress famous stone pier built in eighteen I'm not entirely sure what there is Oh show you out to sea and the view it's nice this it's not really a patch on South End is it Claire there's no train there's there's there's nothing at the end either you can't get candy floss or anything yeah it's nice enough it's alright but we'll give it what five dachshund yeah okay well we've had a successful day it's been it's been quite good we've been finish shopping today basically bit of lunch bit of wandering around see a bit of trieste but all the things or all the things we bought another bite so with the first order of business actually was to get some new socks and underwear yeah and the underwear standards in in Italy are they tend towards the smaller smaller categories it's not good to try and find some better pants we Google translated the Italian for big knickers which your turns out is you can say better than me no no I'd like you to do it first that I'm going to come in okay it turns out the Italian phrase for big knickers is a grande amore dandy good and then well done B which has been the key phrase today we spent quite a lot of time trying to find Gandhi more dandy and eventually founded H&M which I would actually actually give Claire the camera here hmm sorted me out with some glam do more done and then they'll actually we got - we got socks from mr. a dye - and we've got some nice oh nice yeah and which we found a nasty sort of cheap firm place because what we do be killing iPhone cables because it's been so wet trying to keep that navigation going so I bought these very tasteful we've got we've got the nice blue got like a nice hang selfie stick button very important my ones almost dead yes just for overuse and we thought look at it I said what's this for oh no they're in my bag they're in your bag okay you've got to see this asparagus before we go they are just not only do they have amazing green nor weariness but my way better than we get in in Britain not only do they have white asparagus oh yeah check this check this they have Rose is parrot versus a asparagus wit tonight we dine on Rose a asparagus tonight we dine like kings yes some has slashed our seats I am I'm really surprised actually we left them parked up here in the lobby of the Airbnb and our house told us that we could do it and obviously some of the other people in there in the beer be on there in the apartment building where the Airbnb is we're not to charge that is a really not I mean yeah I was at kind of expecting a passive-aggressive notes we had we had some but that's I mean you know better tape and we'll be fine that's all right cuts tell us and you see when we get home Buster's oh well that wasn't a lot of a lot of cop was that basically a dick move by whoever did that I hate corner pin live the woman that told us off the other night yeah yeah yeah are the good news is that a seat sir I don't know how much they are but I imagine they're like 30 or 40 quid on them oh no racing or something so and I was kind of gonna get a new seat anyway cuz I've lost bits out of this one yeah so it's no big deal it's just like oh really do we have to yeah anyway good morning good morning good morning we're back on the road after a couple of days off and and I can see blue blue skies puffy white clouds oh I'm not going to stop you sorry that was I'll be your dirty look shield so where we going to take Claire we we get to take her ferry I'm really looking forward to that yeah I like a bit of a ferry look I've yet to do the the ferry across the Thames yeah let's do that the motorbike say yeah I'm looking forward to that it's gonna be a bit of fun if we get home it's not that far it's about 200k day and we'll have a nice lunch in about 75 kilometers somewhere sort of straight over ish to the right here so hopefully it's a nice day lined up we've got we've got to do a little bit maintenance on the on the bikes yep cuz our chains are getting woefully slack and I don't like a slack chain okay we go left here but otherwise I think no rat touch would everything not touch would not touch would touch touch basket touch they're going they're going okay I've got look at this look at this people I've got my lovely spiffy new USB adapter to replace the one that the raid oh yes oh god navigation I've got data everything's everything's good in the world oh and now look at that it's a OPA boat cover I'll listen trustees ahead oh that's gonna be fun that's all right not wet doing these twisties in the word is absolutely I mean as a sphincter factor of about nine point six right there really yeah I prefer to sit down yeah I don't know what statistically you're more likely to pin it on our you're definitely more likely to wheelie on uphill twisties yeah but you're more likely to slip it or downhill twisties I'm gonna concentrate now but so the camera would concentrate yes we've got a couple more little turns ahead if I'm not gonna turn the camera off whilst I'm negotiating oh what's that it always this camera roaring fill-ups we didn't eat that much [Applause] [Applause] hey we've just passed into Slovenia and already there's different languages yeah which is interesting they they spell police with the J on the police vans and a pig pork against some pork yeah there we go wait some civilians only like sort of 20k outside Trieste anyway is really just as the last Italian city before you get down this way so yeah here we are [Music] Oh also too bad border crossing will set three countries already today three countries and not even really had breakfast oh no I get that some passed ball back in it [Music] gracious full of life and it would appear little oh is it me or did the temperature just drop about two degrees really Oh the covers are no so I think I've made a bit of mistake here we appear to be on a Croatian boats away yeah yeah it cost us five Croatian Kuna each and where are you going to go as far as Rijeka but hey you don't miss another experience it's very nice I think we've left the eurozone still got come on little bite you can make it in fourth gear there's only got four gears oh Claire no vicar not the curries well there's their place following up on this wall here are the names all the people that have tumbled to their death of this place joke joke joke okay okay good solid overtake nice one yeah that's okay that's a four that's a good for there [Music] oh so we've just passed through a town called sweaty Dhiraj we decided not to stop because we did want to encourage change unfortunately it seems it seems to me got a dry road now again which is nice the scenery it's stunning around here loads of bikers down here so long they live all away and I can play that was something I was absolutely ridiculous oh so it was quite nice when we left we Hector it was all right it would say it's a little bit chilly but there wasn't much in the way of refrain and it just got colder as we left and we sort of put our waterproof top on and then I want to prove bottoms on all right and it was all right it's just a bit chilly and we thought we know unseasonally cold for this time of year then the rain started and then the wind picked up and then the wind picked up quite a lot quite fall and we were making firm there's like this sort of strip of Ireland called tag of the coast of Croatia towards the north where we are at the moment and with our plan was we catched ferry across I mean it's not a big body of water oh no we catch the ferry over to this island and then there was a minimal amount of mileage to get to pack move in a staying back yeah and there are loads of like apartments and hotels and had me it would be really nice then we get the bridge on the way off and back onto the main island yes I'm surveying that and it'd be great but what we didn't Bank on was just the driving wind aware that as you I mean this is ridiculous for this time of year I mean by now it should be sort of it's not like season at all but [Music] and the rain was making sweat because we had all that gear on but it was getting really serious but we've got down to Perry but the ferry haven't run the since yesterday because because the winds and there's all these cars and camper vans racked up looking when a ferry would run again which clearly it was not going so it wasn't going anyway so we we we stopped we found there was a little place of the real friend he Croatian guy who made his coffee but by the bar waiting for the ferry yeah and we sort of regrouped there and he we got some advice from him about somewhere close we could basically hold up for the night because there was no way we really wanted to go that much further and he suggested the screen yes we are able where are we so short then found an apartment and this there's lots of holiday apartments right here no bogeys and we found this lovely pond and this chap who actually speaks quite good German which is good we don't speak Croatian and I speak their German and he's he sorted that we found it we are in his nice apartment we are now dry and warm and we are hiding from the weather and we've been hide here that would be the case until there's a place where to stay where our here and we are staying the hell here actually it's pretty icy he went off with our passports to take they go to take a passport a he brought us back snap so he comes in here with our passports and he came up with two guards we come up with free gloves snap sign I yeah I don't actually drink and I've always going to be expected to dock back some snaps which would not be a good idea my snaps I've had my keys to finding a dry and warm place for the night provided by a friendly German Jesus Oh crikey that's wallpaper striper [Music] what is it it's not very big this morning but compared to yesterday get a load of this people look at this hello Adriatic Sea I mean it's this is this kind of looks like what I expected this is lovely again but I'm really surprised and down there on bikes so yeah compared to the incredible winds of yesterday and the driving rain I think we're gonna do okay I mean there's literally not a cloud in the sky it's fantastic so it's kind of our practice to do morning maintenance and really it's just coming down to what fell off the bike yesterday reattaching it what fell off your bike today yesterday the cut-out sensor on the side stand starting the bike with the side stand is he's going I've cable tied it back onto the side stand so she lovely right where are we going this morning we are going to split let's split this is kind of what I had in mind for Adriatic Turek all along this is much more like it this is very very pleasant indeed and I kind of got that after all the wet and windy riding we've done recently I kind of got that feeling of foreboding you know like you should not get used to this because this is not what you deserve little monkey rider boats gently bobbing in the gentle breeze gentle breeze lovely little Adriatic villas by the side of the key bye bye Carla bag hi Carla bye thank you for sheltering us yeah you would always hold a special place in my heart yes I thought excursions by ready because editor letter I've always had exclusions that's where they said to the naughty Croatian children where you will enjoy Pleasant trips around the bay oh whoa most dangerous roads Charlotte Clare cried the Croatian death row dun-dun-duh see how they had back their way down the twisty roads with decent quality Armco the entire way go pass me and pull it after me yeah it's better luck we just stopped put some music on and that is bolt hanging out of my brake disc on these roads  how slightly been the bowl but it might go back in again that is what was causing my brakes to squeak this morning what happened there then I'm fighting the wind was blowing it around I'm like keep running around I think it is the barrier gonna come down it's alright that way to split snow yeah it is I'm sure of it it looks like snow to me he did say that guys said that they've been some Oh sweetie a little bit chilly to put out windproof some and I have a sugary sweetie which is awesome I've got a rather epic view of the mountains behind and this Bank is made of raspberry oh my god it's lovely I've never seen this much rosemary in my entire life they'll be split then crikey no other oh no that's to us we're not going in the tunnel there those at your home I'm still absolutely without lights so going in the tunnels is a bit scary and claire has to ride behind me so people can see me because she's got a real light [Music] these cycles [Music] [Music] Oh [Music] [Music] [Music] [Music] [Music] [Applause] [Applause] [Music] you \n"
          ],
          "name": "stdout"
        }
      ]
    },
    {
      "cell_type": "markdown",
      "metadata": {
        "id": "CBk-QgyXuvyb",
        "colab_type": "text"
      },
      "source": [
        "Save to a text file "
      ]
    },
    {
      "cell_type": "code",
      "metadata": {
        "id": "0xsTXxqZuUtW",
        "colab_type": "code",
        "colab": {
          "base_uri": "https://localhost:8080/",
          "height": 34
        },
        "outputId": "39ec6372-e799-4e52-d8c8-5aac170a7653"
      },
      "source": [
        "file = open('FILENAME.txt', 'w+')\n",
        "file.write(text)"
      ],
      "execution_count": null,
      "outputs": [
        {
          "output_type": "execute_result",
          "data": {
            "text/plain": [
              "52703"
            ]
          },
          "metadata": {
            "tags": []
          },
          "execution_count": 24
        }
      ]
    },
    {
      "cell_type": "markdown",
      "metadata": {
        "id": "epcJTrC4u5x2",
        "colab_type": "text"
      },
      "source": [
        "# SECTION TWO \n",
        "# Generating text \n"
      ]
    },
    {
      "cell_type": "markdown",
      "metadata": {
        "id": "H7LoMj4GA4n_",
        "colab_type": "text"
      },
      "source": [
        "#  Interactive textgenrnn Demo w/ GPU\n",
        "\n",
        "by [Max Woolf](http://minimaxir.com)\n",
        "\n",
        "*Last updated: April 27tht, 2020*\n",
        "\n",
        "Generate text using a pretrained neural network with a few lines of code, or easily train your own text-generating neural network of any size and complexity, **for free on a GPU using Collaboratory!**\n",
        "\n",
        "For more about textgenrnn, you can visit [this GitHub repository](https://github.com/minimaxir/textgenrnn).\n"
      ]
    },
    {
      "cell_type": "code",
      "metadata": {
        "id": "qbs57FeUybgL",
        "colab_type": "code",
        "colab": {
          "base_uri": "https://localhost:8080/",
          "height": 34
        },
        "outputId": "77a9e3a8-fdb9-4bfa-84d2-2948e0249fcb"
      },
      "source": [
        "%tensorflow_version 1.x"
      ],
      "execution_count": null,
      "outputs": [
        {
          "output_type": "stream",
          "text": [
            "TensorFlow 1.x selected.\n"
          ],
          "name": "stdout"
        }
      ]
    },
    {
      "cell_type": "code",
      "metadata": {
        "id": "KBkpRgBCBS2_",
        "colab_type": "code",
        "colab": {
          "base_uri": "https://localhost:8080/",
          "height": 105
        },
        "outputId": "12074dea-fabb-4591-85df-9a339b2d49c8"
      },
      "source": [
        "!pip install -q textgenrnn\n",
        "from google.colab import files\n",
        "from textgenrnn import textgenrnn\n",
        "from datetime import datetime\n",
        "import os"
      ],
      "execution_count": null,
      "outputs": [
        {
          "output_type": "stream",
          "text": [
            "Using TensorFlow backend.\n"
          ],
          "name": "stderr"
        },
        {
          "output_type": "stream",
          "text": [
            "WARNING:tensorflow:From /tensorflow-1.15.2/python3.6/tensorflow_core/python/ops/resource_variable_ops.py:1630: calling BaseResourceVariable.__init__ (from tensorflow.python.ops.resource_variable_ops) with constraint is deprecated and will be removed in a future version.\n",
            "Instructions for updating:\n",
            "If using Keras pass *_constraint arguments to layers.\n"
          ],
          "name": "stdout"
        }
      ]
    },
    {
      "cell_type": "markdown",
      "metadata": {
        "id": "0wXB05bPDYxS",
        "colab_type": "text"
      },
      "source": [
        "Set parameters for training \n",
        "\n",
        "Please refer to Max's orignal [colab notebook](https://drive.google.com/file/d/1mMKGnVxirJnqDViH7BDJxFqWrsXlPSoK/view?usp=sharing) for his recommended optimal settings. We're using settings here today that will give quick results. \n",
        "\n",
        " (see the [demo jupyter notebook](https://github.com/minimaxir/textgenrnn/blob/master/docs/textgenrnn-demo.ipynb) for more information about these parameters)\n"
      ]
    },
    {
      "cell_type": "code",
      "metadata": {
        "id": "P8wSlgXoDPCR",
        "colab_type": "code",
        "colab": {}
      },
      "source": [
        "model_cfg = {\n",
        "    'word_level': False,   # set to True if want to train a word-level model (requires more data and smaller max_length)\n",
        "    'rnn_size': 128,   # number of LSTM cells of each layer (128/256 recommended)\n",
        "    'rnn_layers': 3,   # number of LSTM layers (>=2 recommended)\n",
        "    'rnn_bidirectional': False,   # consider text both forwards and backward, can give a training boost\n",
        "    'max_length': 30,   # number of tokens to consider before predicting the next (20-40 for characters, 5-10 for words recommended)\n",
        "    'max_words': 10000,   # maximum number of words to model; the rest will be ignored (word-level model only)\n",
        "}\n",
        "\n",
        "train_cfg = {\n",
        "    'line_delimited': True,   # set to True if each text has its own line in the source file\n",
        "    'num_epochs': 20,   # set higher to train the model for longer \n",
        "    'gen_epochs': 10,   # generates sample text from model after given number of epochs\n",
        "    'train_size': 0.8,   # proportion of input data to train on: setting < 1.0 limits model from learning perfectly\n",
        "    'dropout': 0.0,   # ignore a random proportion of source tokens each epoch, allowing model to generalize better\n",
        "    'validation': False,   # If train__size < 1.0, test on holdout dataset; will make overall training slower\n",
        "    'is_csv': False   # set to True if file is a CSV exported from Excel/BigQuery/pandas\n",
        "}"
      ],
      "execution_count": null,
      "outputs": []
    },
    {
      "cell_type": "markdown",
      "metadata": {
        "id": "BT__brhBCvJu",
        "colab_type": "text"
      },
      "source": [
        "In the Colaboratory Notebook sidebar on the left of the screen, select *Files*. From there you can upload files:\n",
        "\n",
        "![alt text](https://i.imgur.com/TGcZT4h.png)\n",
        "\n",
        "Upload **any text file** and update the file name in the cell below, then run the cell."
      ]
    },
    {
      "cell_type": "code",
      "metadata": {
        "id": "6OFnPCLADfll",
        "colab_type": "code",
        "colab": {}
      },
      "source": [
        "file_name = \"FILENAME.txt\"\n",
        "model_name = 'model_1'   # change to set file name of resulting trained models/texts"
      ],
      "execution_count": null,
      "outputs": []
    },
    {
      "cell_type": "markdown",
      "metadata": {
        "id": "LdpZQXknFNY3",
        "colab_type": "text"
      },
      "source": [
        "The next cell will start the actual training. And thanks to the power of Keras's CuDNN layers, training is super-fast when compared to CPU training on a local machine!\n",
        "\n",
        "Ideally, you want a training loss less than `1.0` in order for the model to create sensible text consistently."
      ]
    },
    {
      "cell_type": "code",
      "metadata": {
        "id": "aeXshJM-Cuaf",
        "colab_type": "code",
        "colab": {}
      },
      "source": [
        "textgen = textgenrnn(name=model_name)\n",
        "\n",
        "train_function = textgen.train_from_file if train_cfg['line_delimited'] else textgen.train_from_largetext_file\n",
        "\n",
        "train_function(\n",
        "    file_path=file_name,\n",
        "    new_model=True,\n",
        "    num_epochs=train_cfg['num_epochs'],\n",
        "    gen_epochs=train_cfg['gen_epochs'],\n",
        "    batch_size=1024,\n",
        "    train_size=train_cfg['train_size'],\n",
        "    dropout=train_cfg['dropout'],\n",
        "    validation=train_cfg['validation'],\n",
        "    is_csv=train_cfg['is_csv'],\n",
        "    rnn_layers=model_cfg['rnn_layers'],\n",
        "    rnn_size=model_cfg['rnn_size'],\n",
        "    rnn_bidirectional=model_cfg['rnn_bidirectional'],\n",
        "    max_length=model_cfg['max_length'],\n",
        "    dim_embeddings=100,\n",
        "    word_level=model_cfg['word_level'])"
      ],
      "execution_count": null,
      "outputs": []
    },
    {
      "cell_type": "markdown",
      "metadata": {
        "id": "gs9OCqS493uR",
        "colab_type": "text"
      },
      "source": [
        "We have trained our model! now let's run it to see what happens "
      ]
    },
    {
      "cell_type": "code",
      "metadata": {
        "id": "zd_CPrQsMBSn",
        "colab_type": "code",
        "colab": {}
      },
      "source": [
        "textgen.generate(n=10, prefix = None, temperature = 0.5)\n",
        "# the higher the temperature the stranger the text generated"
      ],
      "execution_count": null,
      "outputs": []
    },
    {
      "cell_type": "markdown",
      "metadata": {
        "id": "o0DbTuT0PVAj",
        "colab_type": "text"
      },
      "source": [
        "We can run the model in interactive mode and see how the generation process works. It will suggest the top N (default is 3) options for the next character or word."
      ]
    },
    {
      "cell_type": "code",
      "metadata": {
        "id": "AUx-c-PLLTFm",
        "colab_type": "code",
        "colab": {}
      },
      "source": [
        "textgen.generate(interactive=True, temperature = 0.5, top_n=5)"
      ],
      "execution_count": null,
      "outputs": []
    },
    {
      "cell_type": "markdown",
      "metadata": {
        "id": "RTa6zf3e_9gV",
        "colab_type": "text"
      },
      "source": [
        "You can download a large amount of generated text from your model with the cell below! Rerun the cell as many times as you want for even more text!"
      ]
    },
    {
      "cell_type": "code",
      "metadata": {
        "id": "-fxL77nvAMAX",
        "colab_type": "code",
        "colab": {}
      },
      "source": [
        "# this temperature schedule cycles between 1 very unexpected token, 1 unexpected token, 2 expected tokens, repeat.\n",
        "# changing the temperature schedule can result in wildly different output!\n",
        "temperature = [1.0, 0.5, 0.2, 0.2]   \n",
        "prefix = None   # if you want each generated text to start with a given seed text\n",
        "\n",
        "if train_cfg['line_delimited']:\n",
        "  n = 1000\n",
        "  max_gen_length = 60 if model_cfg['word_level'] else 300\n",
        "else:\n",
        "  n = 1\n",
        "  max_gen_length = 2000 if model_cfg['word_level'] else 10000\n",
        "  \n",
        "timestring = datetime.now().strftime('%Y%m%d_%H%M%S')\n",
        "gen_file = '{}_gentext_{}.txt'.format(model_name, timestring)\n",
        "\n",
        "textgen.generate_to_file(gen_file,\n",
        "                         temperature=temperature,\n",
        "                         prefix=prefix,\n",
        "                         n=n,\n",
        "                         max_gen_length=max_gen_length)\n"
      ],
      "execution_count": null,
      "outputs": []
    },
    {
      "cell_type": "markdown",
      "metadata": {
        "id": "4XcMS0EPxvJX",
        "colab_type": "text"
      },
      "source": [
        "Download and save your text file to your computer "
      ]
    },
    {
      "cell_type": "code",
      "metadata": {
        "id": "cpfK11l2xvfI",
        "colab_type": "code",
        "colab": {}
      },
      "source": [
        "files.download(gen_file)"
      ],
      "execution_count": null,
      "outputs": []
    },
    {
      "cell_type": "markdown",
      "metadata": {
        "id": "dMW89g4O_ZT8",
        "colab_type": "text"
      },
      "source": [
        "Now you have some text to play with creatively. Use a text to speech program to create a sound file https://www.naturalreaders.com/online/ \n",
        "\n",
        "Design an animation etc etc... "
      ]
    },
    {
      "cell_type": "markdown",
      "metadata": {
        "id": "mc_a3MXBzyF6",
        "colab_type": "text"
      },
      "source": [
        "#SECTION 3\n",
        "\n",
        "In case you want to save any of the models you've trained. You can download the weights below. "
      ]
    },
    {
      "cell_type": "markdown",
      "metadata": {
        "id": "ClJwpF_ACONp",
        "colab_type": "text"
      },
      "source": [
        "You can download the weights and configuration files in the cell below, allowing you recreate the model on your own computer!"
      ]
    },
    {
      "cell_type": "code",
      "metadata": {
        "id": "4RNY6RBI9LmL",
        "colab_type": "code",
        "colab": {}
      },
      "source": [
        "files.download('{}_weights.hdf5'.format(model_name))\n",
        "files.download('{}_vocab.json'.format(model_name))\n",
        "files.download('{}_config.json'.format(model_name))"
      ],
      "execution_count": null,
      "outputs": []
    },
    {
      "cell_type": "markdown",
      "metadata": {
        "id": "oF4-PqF0Fl7R",
        "colab_type": "text"
      },
      "source": [
        "To recreate the model on your own computer, after installing textgenrnn and TensorFlow, you can create a Python script with:\n",
        "\n",
        "```\n",
        "from textgenrnn import textgenrnn\n",
        "textgen = textgenrnn(weights_path='colaboratory_weights.hdf5',\n",
        "                       vocab_path='colaboratory_vocab.json',\n",
        "                       config_path='colaboratory_config.json')\n",
        "                       \n",
        "textgen.generate_samples(max_gen_length=1000)\n",
        "textgen.generate_to_file('textgenrnn_texts.txt', max_gen_length=1000)\n",
        "```\n",
        "\n",
        "Have fun with your new model! :)"
      ]
    },
    {
      "cell_type": "markdown",
      "metadata": {
        "id": "92Zjtsb_Dgj-",
        "colab_type": "text"
      },
      "source": [
        "# Etcetera\n",
        "\n",
        "If the model fails to load on a local machine due to a model-size-not-matching bug (common in >30MB weights), this is due to a file export bug from Colaboratory. To work around this issue, save the weights to Google Drive with the two cells below and download from there."
      ]
    },
    {
      "cell_type": "code",
      "metadata": {
        "id": "F-IzscxUHmAB",
        "colab_type": "code",
        "colab": {}
      },
      "source": [
        "!pip install -U -q PyDrive\n",
        "from pydrive.auth import GoogleAuth\n",
        "from pydrive.drive import GoogleDrive\n",
        "from google.colab import auth\n",
        "from google.colab import files\n",
        "from oauth2client.client import GoogleCredentials\n",
        "\n",
        "auth.authenticate_user()\n",
        "gauth = GoogleAuth()\n",
        "gauth.credentials = GoogleCredentials.get_application_default()\n",
        "drive = GoogleDrive(gauth)"
      ],
      "execution_count": null,
      "outputs": []
    },
    {
      "cell_type": "code",
      "metadata": {
        "id": "WR4_XJpfKAIn",
        "colab_type": "code",
        "colab": {
          "base_uri": "https://localhost:8080/",
          "height": 35
        },
        "outputId": "f70ce499-1062-4968-8423-c7dbcd71cc5d"
      },
      "source": [
        "uploaded = drive.CreateFile({'title': '{}_weights.hdf5'.format(model_name)})\n",
        "uploaded.SetContentFile('{}_weights.hdf5'.format(model_name))\n",
        "uploaded.Upload()\n",
        "print('Uploaded file with ID {}'.format(uploaded.get('id')))"
      ],
      "execution_count": null,
      "outputs": [
        {
          "output_type": "stream",
          "text": [
            "Uploaded file with ID 1b6T6M32YnXs-c0NB-PEi6MhAdCuG7RHy\n"
          ],
          "name": "stdout"
        }
      ]
    },
    {
      "cell_type": "markdown",
      "metadata": {
        "id": "ig-KVgkCDCKD",
        "colab_type": "text"
      },
      "source": [
        "If the notebook has errors (e.g. GPU Sync Fail), force-kill the Colaboratory virtual machine and restart it with the command below:"
      ]
    },
    {
      "cell_type": "code",
      "metadata": {
        "id": "rIHiVP53FnsX",
        "colab_type": "code",
        "colab": {}
      },
      "source": [
        "!kill -9 -1"
      ],
      "execution_count": null,
      "outputs": []
    }
  ]
}